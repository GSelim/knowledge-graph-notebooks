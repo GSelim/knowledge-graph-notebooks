{
 "cells": [
  {
   "cell_type": "markdown",
   "id": "8246b71e",
   "metadata": {},
   "source": [
    " <h1> TACH2 </h1>"
   ]
  },
  {
   "cell_type": "markdown",
   "id": "5b7c8c40",
   "metadata": {},
   "source": [
    "this notebook contains the following: \n",
    "    \n",
    "    Graph Update\n",
    "           \n",
    "    View creation \n",
    "    "
   ]
  },
  {
   "cell_type": "code",
   "execution_count": 2,
   "id": "39733ae5",
   "metadata": {},
   "outputs": [],
   "source": [
    "import rdflib\n",
    "from rdflib.extras.external_graph_libs import rdflib_to_networkx_multidigraph\n",
    "import networkx as nx\n",
    "import matplotlib.pyplot as plt\n",
    "import re\n",
    "from random import sample\n",
    "import graphdb\n",
    "import pandas as pd\n",
    "import numpy as np\n",
    "\n",
    "from SPARQLWrapper import SPARQLWrapper, JSON\n",
    "\n",
    "from pyvis.network import Network\n",
    "import random\n",
    "\n",
    "import requests\n",
    "\n",
    "import urllib.request\n",
    "\n",
    "import urllib3\n",
    "\n",
    "import urllib.parse\n",
    "\n",
    "import json \n",
    "\n",
    "from rdflib import Graph\n"
   ]
  },
  {
   "cell_type": "code",
   "execution_count": null,
   "id": "ee6850e6",
   "metadata": {},
   "outputs": [],
   "source": []
  },
  {
   "cell_type": "code",
   "execution_count": 3,
   "id": "d2e8e9e2",
   "metadata": {},
   "outputs": [],
   "source": [
    "sparql = SPARQLWrapper(\n",
    "    \"http://LAPTOP-CS19OKIS:7200/repositories/tach1\"\n",
    ")\n",
    "sparql.setReturnFormat(JSON)\n",
    "\n"
   ]
  },
  {
   "cell_type": "markdown",
   "id": "2d0e7713",
   "metadata": {},
   "source": [
    "# UPDATING GRAPH"
   ]
  },
  {
   "cell_type": "markdown",
   "id": "8088f592",
   "metadata": {},
   "source": [
    "# Single update query "
   ]
  },
  {
   "cell_type": "code",
   "execution_count": 6,
   "id": "508303c2",
   "metadata": {},
   "outputs": [],
   "source": [
    "req =[\"INSERT { <http://krono.act.uji.es/schemas/slodbi#Ain> <http://www.w3.org/2002/07/owl#sameAs> <http://krono.act.uji.es/schemas/slodbi#Ain> } WHERE {}\",\"DELETE { <http://krono.act.uji.es/schemas/slodbi#Ain> <http://www.w3.org/2002/07/owl#sameAs> <http://krono.act.uji.es/schemas/slodbi#Ain> } WHERE {}\"]\n",
    "#req[0] insert req[1] delete\n",
    "\n",
    "zerone=[1,0]\n",
    "toggle=0"
   ]
  },
  {
   "cell_type": "code",
   "execution_count": 7,
   "id": "f10eff2d",
   "metadata": {},
   "outputs": [
    {
     "name": "stdout",
     "output_type": "stream",
     "text": [
      "request : INSERT { <http://krono.act.uji.es/schemas/slodbi#Ain> <http://www.w3.org/2002/07/owl#sameAs> <http://krono.act.uji.es/schemas/slodbi#Ain> } WHERE {}\n",
      "\n",
      "url : http://localhost:7200/repositories/tach1/statements?update=INSERT%20%7B%20%3Chttp%3A%2F%2Fkrono.act.uji.es%2Fschemas%2Fslodbi%23Ain%3E%20%3Chttp%3A%2F%2Fwww.w3.org%2F2002%2F07%2Fowl%23sameAs%3E%20%3Chttp%3A%2F%2Fkrono.act.uji.es%2Fschemas%2Fslodbi%23Ain%3E%20%7D%20WHERE%20%7B%7D\n",
      "\n",
      "response= \n",
      "status= 204\n"
     ]
    }
   ],
   "source": [
    "\n",
    "print(\"request : \"+req[toggle])\n",
    "url = 'http://localhost:7200/repositories/tach1/statements?update='+urllib.parse.quote_plus(req[toggle])\n",
    "toggle=zerone[toggle]\n",
    "    \n",
    "      \n",
    "url=url.replace('+','%20')\n",
    "print(\"\\nurl : \"+url)\n",
    "\n",
    "x = requests.post(url)\n",
    "\n",
    "\n",
    "print(\"\\nresponse= \"+x.text)\n",
    "print(\"status= \"+str(x.status_code))"
   ]
  },
  {
   "cell_type": "code",
   "execution_count": 5,
   "id": "91720c24",
   "metadata": {},
   "outputs": [],
   "source": [
    "_urls_examples=\"\"\"\n",
    "DELETE URL FROM WEBAPI\n",
    "http://localhost:7200/repositories/tach1/statements?update=DELETE%20%7B%20%3Chttp%3A%2F%2Fkrono.act.uji.es%2Fschemas%2Fslodbi%23Ain%3E%20%3Chttp%3A%2F%2Fwww.w3.org%2F2002%2F07%2Fowl%23sameAs%3E%20%3Chttp%3A%2F%2Fkrono.act.uji.es%2Fschemas%2Fslodbi%23Ain%3E%20%7D%20WHERE%20%7B%7D\n",
    "\n",
    "INSERT URL FROM WEBAPI \n",
    "http://localhost:7200/repositories/tach1/statements?update=INSERT%20%7B%20%3Chttp%3A%2F%2Fkrono.act.uji.es%2Fschemas%2Fslodbi%23Ain%3E%20%3Chttp%3A%2F%2Fwww.w3.org%2F2002%2F07%2Fowl%23sameAs%3E%20%3Chttp%3A%2F%2Fkrono.act.uji.es%2Fschemas%2Fslodbi%23Ain%3E%20%7D%20WHERE%20%7B%7D\n",
    "\n",
    "\"\"\""
   ]
  },
  {
   "cell_type": "markdown",
   "id": "458705f2",
   "metadata": {},
   "source": [
    "# Entire doc update"
   ]
  },
  {
   "cell_type": "markdown",
   "id": "b675aab6",
   "metadata": {},
   "source": [
    "GraphDB POST adress http://localhost:7200/repositories/tach4/statements\n",
    "\n",
    "adress to test the return of the post http://httpbin.org/post "
   ]
  },
  {
   "cell_type": "markdown",
   "id": "db3467b0",
   "metadata": {},
   "source": [
    "# this one works"
   ]
  },
  {
   "cell_type": "code",
   "execution_count": 14,
   "id": "005053cf",
   "metadata": {},
   "outputs": [
    {
     "name": "stdout",
     "output_type": "stream",
     "text": [
      "\n",
      "204\n"
     ]
    }
   ],
   "source": [
    "import requests\n",
    "with open('test.ttl', 'rb') as f:\n",
    "    data = f.read()\n",
    "res = requests.post(url='http://localhost:7200/repositories/tach4/statements',\n",
    "                    data=data,\n",
    "                    headers={'Content-Type': 'text/plain'})\n",
    "\n",
    "print(res.text)\n",
    "print(res.status_code)"
   ]
  },
  {
   "cell_type": "code",
   "execution_count": 15,
   "id": "b10b4c46",
   "metadata": {},
   "outputs": [
    {
     "name": "stdout",
     "output_type": "stream",
     "text": [
      "b'<http://krono.act.uji.es/schemas/slodbi#000010info> <http://www.w3.org/1999/02/22-rdf-syntax-ns#type> <http://krono.act.uji.es/schemas/slodbi#User_Account> .\\r\\n<http://krono.act.uji.es/schemas/slodbi#000010info> <http://www.w3.org/2000/01/rdf-schema#label> \"010.bio\" .\\r\\n<http://krono.act.uji.es/schemas/slodbi#000010info> <http://krono.act.uji.es/schemas/slodbi#followers_count> \"240\"^^<http://www.w3.org/2001/XMLSchema#integer> .\\r\\n<http://krono.act.uji.es/schemas/slodbi#000010info> <http://krono.act.uji.es/schemas/slodbi#follows> <http://krono.act.uji.es/schemas/slodbi#territorio_es> .\\r\\n<http://krono.act.uji.es/schemas/slodbi#000010info> <http://krono.act.uji.es/schemas/slodbi#friends_count> \"3032\"^^<http://www.w3.org/2001/XMLSchema#integer> .\\r\\n<http://krono.act.uji.es/schemas/slodbi#000010info> <http://krono.act.uji.es/schemas/slodbi#user_id> \"711329345319649280\" .\\r\\n<http://krono.act.uji.es/schemas/slodbi#000010info> <http://krono.act.uji.es/schemas/slodbi#user_location> \"Barcelona, Espa\\\\u00F1a\" .\\r\\n<http://krono.act.uji.es/schemas/slodbi#000010info> <http://krono.act.uji.es/schemas/slodbi#user_url> \"https://twitter.com/000010info\" .\\r\\n<http://krono.act.uji.es/schemas/slodbi#000010info> <http://krono.act.uji.es/schemas/slodbi#user_verified> \"false\"^^<http://www.w3.org/2001/XMLSchema#boolean> .\\r\\n<http://krono.act.uji.es/schemas/slodbi#000010info> <http://www.w3.org/2000/01/rdf-schema#comment> \"NaN\"^^<http://www.w3.org/2001/XMLSchema#double> .\\r\\n<http://krono.act.uji.es/schemas/slodbi#000javi000> <http://www.w3.org/1999/02/22-rdf-syntax-ns#type> <http://krono.act.uji.es/schemas/slodbi#User_Account> .\\r\\n<http://krono.act.uji.es/schemas/slodbi#000javi000> <http://www.w3.org/2000/01/rdf-schema#label> \"javier lorente\" .\\r\\n<http://krono.act.uji.es/schemas/slodbi#000javi000> <http://krono.act.uji.es/schemas/slodbi#followers_count> \"15\"^^<http://www.w3.org/2001/XMLSchema#integer> .\\r\\n<http://krono.act.uji.es/schemas/slodbi#000javi000> <http://krono.act.uji.es/schemas/slodbi#follows> <http://krono.act.uji.es/schemas/slodbi#SEGITTUR> .\\r\\n<http://krono.act.uji.es/schemas/slodbi#000javi000> <http://krono.act.uji.es/schemas/slodbi#friends_count> \"106\"^^<http://www.w3.org/2001/XMLSchema#integer> .\\r\\n<http://krono.act.uji.es/schemas/slodbi#000javi000> <http://krono.act.uji.es/schemas/slodbi#user_id> \"632872590\" .\\r\\n<http://krono.act.uji.es/schemas/slodbi#000javi000> <http://krono.act.uji.es/schemas/slodbi#user_location> \"Madrid, Comunidad de Madrid\" .\\r\\n<http://krono.act.uji.es/schemas/slodbi#000javi000> <http://krono.act.uji.es/schemas/slodbi#user_url> \"https://twitter.com/000javi000\" .\\r\\n<http://krono.act.uji.es/schemas/slodbi#000javi000> <http://krono.act.uji.es/schemas/slodbi#user_verified> \"false\"^^<http://www.w3.org/2001/XMLSchema#boolean> .\\r\\n<http://krono.act.uji.es/schemas/slodbi#000javi000> <http://www.w3.org/2000/01/rdf-schema#comment> \"Service Through Frienship\" .'\n"
     ]
    }
   ],
   "source": [
    "print(data)\n",
    "#only accepts data with the nt format "
   ]
  },
  {
   "cell_type": "code",
   "execution_count": 16,
   "id": "1260d82c",
   "metadata": {},
   "outputs": [],
   "source": [
    "graph = Graph()\n",
    "graph.parse('tbl2.ttl', format='turtle')\n",
    "newdata=graph.serialize(format='nt')"
   ]
  },
  {
   "cell_type": "code",
   "execution_count": 17,
   "id": "2a2a9afd",
   "metadata": {},
   "outputs": [
    {
     "name": "stdout",
     "output_type": "stream",
     "text": [
      "\n",
      "204\n"
     ]
    }
   ],
   "source": [
    "res = requests.post(url='http://localhost:7200/repositories/tach4/statements',\n",
    "                    data=newdata.encode('utf-8'),\n",
    "                    headers={'Content-Type': 'text/plain'})\n",
    "\n",
    "print(res.text)\n",
    "print(res.status_code)"
   ]
  },
  {
   "cell_type": "markdown",
   "id": "8db62915",
   "metadata": {},
   "source": [
    "# VIEW CREATION"
   ]
  },
  {
   "cell_type": "code",
   "execution_count": 8,
   "id": "1b0bbd4f",
   "metadata": {},
   "outputs": [],
   "source": [
    "apiref=reference=\"\"\"{\n",
    "  \"name\": \"testeuuuu\",\n",
    "  \"query\": \"PREFIX rdfs: <http://www.w3.org/2000/01/rdf-schema#>\\n\\n# Selects two variables to use as columns\\nSELECT ?id ?label {\\n    ?id rdfs:label ?label\\n    # The following placeholder must be present in the query\\n    #!filter\\n}\",\n",
    "  \"columns\": [\n",
    "    {\n",
    "      \"column_name\": \"id\",\n",
    "      \"column_type\": \"iri\",\n",
    "      \"nullable\": true\n",
    "    },\n",
    "    {\n",
    "      \"column_name\": \"label\",\n",
    "      \"column_type\": \"string\",\n",
    "      \"nullable\": true\n",
    "    }\n",
    "  ]\n",
    "}\"\"\""
   ]
  },
  {
   "cell_type": "markdown",
   "id": "bba17cc6",
   "metadata": {},
   "source": [
    "<h3> line by line query generator </h3>"
   ]
  },
  {
   "cell_type": "code",
   "execution_count": 9,
   "id": "0a92fba1",
   "metadata": {},
   "outputs": [],
   "source": [
    "#first body generator, using a list of variables and query line by line in a list\n",
    "\n",
    "def bodygenerator(viewName,selectVariables,queryLines):\n",
    "    \n",
    "    query=\"PREFIX rdfs: <http://www.w3.org/2000/01/rdf-schema#>\\n\\n# Selects variables to use as columns\\nSELECT \"\n",
    "    \n",
    "    for var in selectVariables:\n",
    "        query=query+\"?\"+var+\" \"\n",
    "    query=query+\"{\\n\"\n",
    "    \n",
    "    for line in queryLines:\n",
    "        query=query+\"    \"+line+\".\\n\"\n",
    "    query=query+\"    # The following placeholder must be present in the query\\n    #!filter\\n}\" \n",
    "    print(query+\"\\n\")\n",
    "        \n",
    "    columns=[]\n",
    "    for v in selectVariables:\n",
    "        columns.append({\n",
    "          \"column_name\": v,\n",
    "          \"column_type\": \"string\",\n",
    "          \"nullable\": True\n",
    "        })\n",
    "    \n",
    "    tosend={\n",
    "      \"name\": viewName,\n",
    "      \"query\": query,\n",
    "      \"columns\": columns,\n",
    "    }\n",
    "\n",
    "    return tosend\n",
    "\n"
   ]
  },
  {
   "cell_type": "code",
   "execution_count": 10,
   "id": "ded1a607",
   "metadata": {},
   "outputs": [
    {
     "name": "stdout",
     "output_type": "stream",
     "text": [
      "PREFIX rdfs: <http://www.w3.org/2000/01/rdf-schema#>\n",
      "\n",
      "# Selects variables to use as columns\n",
      "SELECT ?o ?p ?s {\n",
      "    ?o ?p ?s.\n",
      "    # The following placeholder must be present in the query\n",
      "    #!filter\n",
      "}\n",
      "\n",
      "body i sent : \n",
      "\n",
      "{'name': 'newnewinco', 'query': 'PREFIX rdfs: <http://www.w3.org/2000/01/rdf-schema#>\\n\\n# Selects variables to use as columns\\nSELECT ?o ?p ?s {\\n    ?o ?p ?s.\\n    # The following placeholder must be present in the query\\n    #!filter\\n}', 'columns': [{'column_name': 'o', 'column_type': 'string', 'nullable': True}, {'column_name': 'p', 'column_type': 'string', 'nullable': True}, {'column_name': 's', 'column_type': 'string', 'nullable': True}]}\n",
      "\n",
      "response i get : \n",
      "\n",
      "201\n",
      "\n"
     ]
    }
   ],
   "source": [
    "newViewBody=bodygenerator(viewName=\"newnewinco\",selectVariables=[\"o\",\"p\",\"s\"],queryLines=[\"?o ?p ?s\"])\n",
    "\n",
    "print(\"body i sent : \\n\")\n",
    "print(newViewBody)\n",
    "r = requests.post('http://localhost:7200/rest/sql-views/tables/',json=newViewBody)\n",
    "\n",
    "print(\"\\nresponse i get : \\n\")\n",
    "print(r.status_code)\n",
    "print(r.text)\n",
    "\n",
    "#create view in active repository"
   ]
  },
  {
   "cell_type": "code",
   "execution_count": 22,
   "id": "ef601fac",
   "metadata": {},
   "outputs": [
    {
     "data": {
      "text/plain": [
       "['id', 'label']"
      ]
     },
     "execution_count": 22,
     "metadata": {},
     "output_type": "execute_result"
    }
   ],
   "source": [
    "querr=\"PREFIX rdfs: <http://www.w3.org/2000/01/rdf-schema#>\\n\\n# Selects two variables to use as columns\\nSELECT ?id ?label {\\n    ?id rdfs:label ?label\\n    # The following placeholder must be present in the query\\n    #!filter\\n}\"\n",
    "re.findall('\\?(.*?)\\s',re.compile(\"SELECT.*\\?(.*)\\s\").search(querr).group())"
   ]
  },
  {
   "cell_type": "code",
   "execution_count": 11,
   "id": "cb143d70",
   "metadata": {},
   "outputs": [
    {
     "name": "stdout",
     "output_type": "stream",
     "text": [
      "body i sent : \n",
      "\n",
      "{'name': 'anothertest', 'query': 'SELECT ?id ?label {\\n    ?id rdfs:label ?label\\n    #!filter\\n}', 'columns': [{'column_name': 'id', 'column_type': 'string', 'nullable': True}, {'column_name': 'label', 'column_type': 'string', 'nullable': True}]}\n",
      "header i sent: \n",
      "\n",
      "{'X-GraphDB-Repository': 'tach3'}\n",
      "\n",
      "response i get : \n",
      "\n",
      "status code : 409\n",
      "status text : \"A SQL view with name: 'anothertest' already exists.\"\n"
     ]
    }
   ],
   "source": [
    "#second body generator, using the query string, more practical \n",
    "\n",
    "\n",
    "def bodygenerator2(viewName,query):\n",
    "    \n",
    "    selectVariables=re.findall('\\?(.*?)\\s',re.compile(\"SELECT.*\\?(.*)\\s\").search(query).group())\n",
    "    #findall( \"?varI\" ,  in the \"SELECT ?v1 ?v2 ...\" section of the query string  )\n",
    "    \n",
    "    columns=[]\n",
    "    for v in selectVariables:\n",
    "        columns.append({\n",
    "          \"column_name\": v,\n",
    "          \"column_type\": \"string\",\n",
    "          \"nullable\": True\n",
    "        })\n",
    "    \n",
    "    tosend={\n",
    "      \"name\": viewName,\n",
    "      \"query\": query,\n",
    "      \"columns\": columns,\n",
    "    }\n",
    "\n",
    "    return tosend\n",
    "\n",
    "newViewBody=bodygenerator2(viewName=\"anothertest\",query=\"SELECT ?id ?label {\\n    ?id rdfs:label ?label\\n    #!filter\\n}\")\n",
    "\n",
    "print(\"body i sent : \\n\")\n",
    "print(newViewBody)\n",
    "repoheader = { \"X-GraphDB-Repository\" : \"tach3\" }\n",
    "print(\"header i sent: \\n\")\n",
    "print(repoheader)\n",
    "r = requests.post('http://localhost:7200/rest/sql-views/tables/',json=newViewBody,headers=repoheader)\n",
    "\n",
    "\n",
    "\n",
    "print(\"\\nresponse i get : \\n\")\n",
    "print(\"status code : \"+str(r.status_code))\n",
    "print(\"status text : \"+r.text)"
   ]
  },
  {
   "cell_type": "code",
   "execution_count": 14,
   "id": "1b3ab37c",
   "metadata": {},
   "outputs": [
    {
     "name": "stdout",
     "output_type": "stream",
     "text": [
      "['id', 'label']\n",
      "body i sent : \n",
      "\n",
      "{'name': 'testInsertedFilter', 'query': 'SELECT ?id ?label {    ?id rdfs:label ?label\\n #!filter \\n}', 'columns': [{'column_name': 'id', 'column_type': 'string', 'nullable': True}, {'column_name': 'label', 'column_type': 'string', 'nullable': True}]}\n"
     ]
    }
   ],
   "source": [
    "def bodygenerator3(viewName,query):\n",
    "      \n",
    "    varSectionString=re.compile(\"SELECT(.*?){\").search(query).group(1)\n",
    "    #gets us the string with all selected variables \n",
    "    selectVariables=re.findall('\\?([^\\s]*)',varSectionString)\n",
    "    #gets us a list of the variable names\n",
    "    # ==>findall \"?varI\" in the \"SELECT ?v1 ?v2 ...\" section of the query string  \n",
    "    \n",
    "    endOfQuery=re.compile(\"\\s*(\\}.*?)$\").search(query).group()\n",
    "    #find the end of query \" }...\" string \n",
    "    \n",
    "    query=query.replace(endOfQuery,\"\\n #!filter \\n\"+endOfQuery)\n",
    "    #add \"#!filter\" before\n",
    "\n",
    "    \n",
    "    print(selectVariables)\n",
    "\n",
    "    \n",
    "    columns=[]\n",
    "    for v in selectVariables:\n",
    "        columns.append({\n",
    "          \"column_name\": v,\n",
    "          \"column_type\": \"string\",\n",
    "          \"nullable\": True\n",
    "        })\n",
    "    \n",
    "    tosend={\n",
    "      \"name\": viewName,\n",
    "      \"query\": query,\n",
    "      \"columns\": columns,\n",
    "    }\n",
    "\n",
    "    return tosend\n",
    "\n",
    "newViewBody=bodygenerator3(viewName=\"testInsertedFilter\",query=\"SELECT ?id ?label {    ?id rdfs:label ?label}\")\n",
    "\n",
    "print(\"body i sent : \\n\")\n",
    "print(newViewBody)"
   ]
  },
  {
   "cell_type": "code",
   "execution_count": 15,
   "id": "ed23e076",
   "metadata": {},
   "outputs": [
    {
     "name": "stdout",
     "output_type": "stream",
     "text": [
      "body i sent : \n",
      "\n",
      "{'name': 'testInsertedFilter', 'query': 'SELECT ?id ?label {    ?id rdfs:label ?label\\n #!filter \\n}', 'columns': [{'column_name': 'id', 'column_type': 'string', 'nullable': True}, {'column_name': 'label', 'column_type': 'string', 'nullable': True}]}\n",
      "header i sent: \n",
      "\n",
      "{'X-GraphDB-Repository': 'tach3'}\n",
      "\n",
      "response i get : \n",
      "\n",
      "status code : 409\n",
      "status text : \"A SQL view with name: 'testInsertedFilter' already exists.\"\n"
     ]
    }
   ],
   "source": [
    "print(\"body i sent : \\n\")\n",
    "print(newViewBody)\n",
    "repoheader = { \"X-GraphDB-Repository\" : \"tach3\" }\n",
    "print(\"header i sent: \\n\")\n",
    "print(repoheader)\n",
    "r = requests.post('http://localhost:7200/rest/sql-views/tables/',json=newViewBody,headers=repoheader)\n",
    "\n",
    "\n",
    "\n",
    "print(\"\\nresponse i get : \\n\")\n",
    "print(\"status code : \"+str(r.status_code))\n",
    "print(\"status text : \"+r.text)"
   ]
  },
  {
   "cell_type": "code",
   "execution_count": null,
   "id": "129258f0",
   "metadata": {},
   "outputs": [],
   "source": []
  }
 ],
 "metadata": {
  "kernelspec": {
   "display_name": "Python 3 (ipykernel)",
   "language": "python",
   "name": "python3"
  },
  "language_info": {
   "codemirror_mode": {
    "name": "ipython",
    "version": 3
   },
   "file_extension": ".py",
   "mimetype": "text/x-python",
   "name": "python",
   "nbconvert_exporter": "python",
   "pygments_lexer": "ipython3",
   "version": "3.10.7"
  }
 },
 "nbformat": 4,
 "nbformat_minor": 5
}
